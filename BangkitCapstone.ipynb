{
  "nbformat": 4,
  "nbformat_minor": 0,
  "metadata": {
    "colab": {
      "name": "BangkitCapstone_.ipynb",
      "provenance": [],
      "collapsed_sections": []
    },
    "kernelspec": {
      "display_name": "Python 3",
      "name": "python3"
    },
    "language_info": {
      "name": "python"
    }
  },
  "cells": [
    {
      "cell_type": "code",
      "metadata": {
        "colab": {
          "base_uri": "https://localhost:8080/"
        },
        "id": "e4b0NERNxhD1",
        "outputId": "ff60c62b-3444-48c2-825b-2dad6c8d9caa"
      },
      "source": [
        "pip install umap-learn"
      ],
      "execution_count": 1,
      "outputs": [
        {
          "output_type": "stream",
          "text": [
            "Collecting umap-learn\n",
            "\u001b[?25l  Downloading https://files.pythonhosted.org/packages/75/69/85e7f950bb75792ad5d666d86c5f3e62eedbb942848e7e3126513af9999c/umap-learn-0.5.1.tar.gz (80kB)\n",
            "\u001b[K     |████████████████████████████████| 81kB 3.6MB/s \n",
            "\u001b[?25hRequirement already satisfied: numpy>=1.17 in /usr/local/lib/python3.7/dist-packages (from umap-learn) (1.19.5)\n",
            "Requirement already satisfied: scikit-learn>=0.22 in /usr/local/lib/python3.7/dist-packages (from umap-learn) (0.22.2.post1)\n",
            "Requirement already satisfied: scipy>=1.0 in /usr/local/lib/python3.7/dist-packages (from umap-learn) (1.4.1)\n",
            "Requirement already satisfied: numba>=0.49 in /usr/local/lib/python3.7/dist-packages (from umap-learn) (0.51.2)\n",
            "Collecting pynndescent>=0.5\n",
            "\u001b[?25l  Downloading https://files.pythonhosted.org/packages/af/65/8189298dd3a05bbad716ee8e249764ff8800e365d8dc652ad2192ca01b4a/pynndescent-0.5.2.tar.gz (1.1MB)\n",
            "\u001b[K     |████████████████████████████████| 1.2MB 9.0MB/s \n",
            "\u001b[?25hRequirement already satisfied: joblib>=0.11 in /usr/local/lib/python3.7/dist-packages (from scikit-learn>=0.22->umap-learn) (1.0.1)\n",
            "Requirement already satisfied: llvmlite<0.35,>=0.34.0.dev0 in /usr/local/lib/python3.7/dist-packages (from numba>=0.49->umap-learn) (0.34.0)\n",
            "Requirement already satisfied: setuptools in /usr/local/lib/python3.7/dist-packages (from numba>=0.49->umap-learn) (56.1.0)\n",
            "Building wheels for collected packages: umap-learn, pynndescent\n",
            "  Building wheel for umap-learn (setup.py) ... \u001b[?25l\u001b[?25hdone\n",
            "  Created wheel for umap-learn: filename=umap_learn-0.5.1-cp37-none-any.whl size=76569 sha256=dbdaeb8bbce4e4c076bd75ff220ea0a68bbd5cd526d91e210f502577531b5278\n",
            "  Stored in directory: /root/.cache/pip/wheels/ad/df/d5/a3691296ff779f25cd1cf415a3af954b987fb53111e3392cf4\n",
            "  Building wheel for pynndescent (setup.py) ... \u001b[?25l\u001b[?25hdone\n",
            "  Created wheel for pynndescent: filename=pynndescent-0.5.2-cp37-none-any.whl size=51351 sha256=177f06cc883ae124369b02ca270872dc06b51a0cdd592bab3685c223c1456cd0\n",
            "  Stored in directory: /root/.cache/pip/wheels/ba/52/4e/4c28d04d144a28f89e2575fb63628df6e6d49b56c5ddd0c74e\n",
            "Successfully built umap-learn pynndescent\n",
            "Installing collected packages: pynndescent, umap-learn\n",
            "Successfully installed pynndescent-0.5.2 umap-learn-0.5.1\n"
          ],
          "name": "stdout"
        }
      ]
    },
    {
      "cell_type": "code",
      "metadata": {
        "id": "VPdbpolwxklw"
      },
      "source": [
        "#Load Library\n",
        "from sklearn.cluster import KMeans, DBSCAN\n",
        "from sklearn.pipeline import Pipeline\n",
        "from sklearn.preprocessing import StandardScaler\n",
        "from sklearn.metrics import silhouette_score\n",
        "import pandas as pd\n",
        "import matplotlib.pyplot as plt\n",
        "from umap import UMAP"
      ],
      "execution_count": 2,
      "outputs": []
    },
    {
      "cell_type": "code",
      "metadata": {
        "id": "xf73yKGByQgi"
      },
      "source": [
        "bansos_data = pd.read_csv(\"/content/drive/MyDrive/dataset_bansos.csv\")"
      ],
      "execution_count": 3,
      "outputs": []
    },
    {
      "cell_type": "code",
      "metadata": {
        "colab": {
          "base_uri": "https://localhost:8080/",
          "height": 34
        },
        "id": "gnTOAlE6y73O",
        "outputId": "c1c7d8d7-b831-4ca5-c612-60ce46ac3af2"
      },
      "source": [
        "Features = bansos_data.drop([\"id\",\"umur\",\"nik\",\"ibu_hamil\",\"lanjut_usia\",\"disabilitas\",\"bpnt\",\"bst\",\"pkh\"], axis = 1).columns\n",
        "display(Features)"
      ],
      "execution_count": 4,
      "outputs": [
        {
          "output_type": "display_data",
          "data": {
            "text/plain": [
              "Index(['gaji', 'j_tanggungjawab', 'j_motor', 'j_mobil'], dtype='object')"
            ]
          },
          "metadata": {
            "tags": []
          }
        }
      ]
    },
    {
      "cell_type": "code",
      "metadata": {
        "id": "AVNjvhpA3g9q"
      },
      "source": [
        "X = bansos_data[Features]"
      ],
      "execution_count": 5,
      "outputs": []
    },
    {
      "cell_type": "code",
      "metadata": {
        "colab": {
          "base_uri": "https://localhost:8080/",
          "height": 204
        },
        "id": "AN4npEsix06y",
        "outputId": "2df6fe17-cd36-46af-98fa-b86727d62532"
      },
      "source": [
        "X.sample(5, random_state=0)"
      ],
      "execution_count": 6,
      "outputs": [
        {
          "output_type": "execute_result",
          "data": {
            "text/html": [
              "<div>\n",
              "<style scoped>\n",
              "    .dataframe tbody tr th:only-of-type {\n",
              "        vertical-align: middle;\n",
              "    }\n",
              "\n",
              "    .dataframe tbody tr th {\n",
              "        vertical-align: top;\n",
              "    }\n",
              "\n",
              "    .dataframe thead th {\n",
              "        text-align: right;\n",
              "    }\n",
              "</style>\n",
              "<table border=\"1\" class=\"dataframe\">\n",
              "  <thead>\n",
              "    <tr style=\"text-align: right;\">\n",
              "      <th></th>\n",
              "      <th>gaji</th>\n",
              "      <th>j_tanggungjawab</th>\n",
              "      <th>j_motor</th>\n",
              "      <th>j_mobil</th>\n",
              "    </tr>\n",
              "  </thead>\n",
              "  <tbody>\n",
              "    <tr>\n",
              "      <th>597</th>\n",
              "      <td>1000000</td>\n",
              "      <td>9</td>\n",
              "      <td>6</td>\n",
              "      <td>2</td>\n",
              "    </tr>\n",
              "    <tr>\n",
              "      <th>822</th>\n",
              "      <td>2500000</td>\n",
              "      <td>2</td>\n",
              "      <td>6</td>\n",
              "      <td>0</td>\n",
              "    </tr>\n",
              "    <tr>\n",
              "      <th>97</th>\n",
              "      <td>3500000</td>\n",
              "      <td>4</td>\n",
              "      <td>0</td>\n",
              "      <td>0</td>\n",
              "    </tr>\n",
              "    <tr>\n",
              "      <th>75</th>\n",
              "      <td>1000000</td>\n",
              "      <td>9</td>\n",
              "      <td>0</td>\n",
              "      <td>0</td>\n",
              "    </tr>\n",
              "    <tr>\n",
              "      <th>249</th>\n",
              "      <td>1500000</td>\n",
              "      <td>1</td>\n",
              "      <td>2</td>\n",
              "      <td>0</td>\n",
              "    </tr>\n",
              "  </tbody>\n",
              "</table>\n",
              "</div>"
            ],
            "text/plain": [
              "        gaji  j_tanggungjawab  j_motor  j_mobil\n",
              "597  1000000                9        6        2\n",
              "822  2500000                2        6        0\n",
              "97   3500000                4        0        0\n",
              "75   1000000                9        0        0\n",
              "249  1500000                1        2        0"
            ]
          },
          "metadata": {
            "tags": []
          },
          "execution_count": 6
        }
      ]
    },
    {
      "cell_type": "code",
      "metadata": {
        "colab": {
          "base_uri": "https://localhost:8080/",
          "height": 295
        },
        "id": "wSRWN4WI4UHx",
        "outputId": "a95c4d51-51c7-4555-e330-e1d38126c9a5"
      },
      "source": [
        "sc = []\n",
        "for i in range(2, 50):\n",
        "    kmeans = Pipeline([(\"scaling\",StandardScaler()),(\"umap\",UMAP()),(\"clustering\",KMeans(n_clusters=i, init='k-means++',random_state=0))]).fit(X)\n",
        "    score = silhouette_score(X, kmeans[\"clustering\"].labels_)\n",
        "    sc.append(score)\n",
        "plt.plot(range(2, 50), sc, marker = \"o\")\n",
        "plt.title('Silhouette')\n",
        "plt.xlabel('Number of clusters')\n",
        "plt.ylabel('Score')\n",
        "plt.show()"
      ],
      "execution_count": 7,
      "outputs": [
        {
          "output_type": "display_data",
          "data": {
            "image/png": "[encoded data removed]",
            "text/plain": [
              "<Figure size 432x288 with 1 Axes>"
            ]
          },
          "metadata": {
            "tags": [],
            "needs_background": "light"
          }
        }
      ]
    },
    {
      "cell_type": "code",
      "metadata": {
        "colab": {
          "base_uri": "https://localhost:8080/",
          "height": 265
        },
        "id": "5XOH5vaA_C84",
        "outputId": "0cf48a2a-2fd7-48a9-ffaa-c7360f29227d"
      },
      "source": [
        "plt.plot(range(2,50), sc)\n",
        "plt.savefig('Elbow Method.png')\n",
        "plt.show()"
      ],
      "execution_count": 8,
      "outputs": [
        {
          "output_type": "display_data",
          "data": {
            "image/png": "[encoded data removed]",
            "text/plain": [
              "<Figure size 432x288 with 1 Axes>"
            ]
          },
          "metadata": {
            "tags": [],
            "needs_background": "light"
          }
        }
      ]
    },
    {
      "cell_type": "code",
      "metadata": {
        "colab": {
          "base_uri": "https://localhost:8080/",
          "height": 266
        },
        "id": "c9e0K0tT7qYF",
        "outputId": "8e1bd7f8-f418-4210-cb9c-7fd68cfdb51e"
      },
      "source": [
        "from sklearn.decomposition import PCA\n",
        "import matplotlib.pyplot as plt\n",
        "plt.style.use(\"seaborn-whitegrid\")\n",
        "kmeans = Pipeline([(\"scaling\",StandardScaler()),(\"umap\",UMAP()),(\"clustering\",KMeans(n_clusters=3, init='k-means++',random_state=0))]).fit(X)\n",
        "pca = Pipeline([(\"scaling\",StandardScaler()),(\"umap\",UMAP()),(\"decompositioning\",PCA(n_components = 2))]).fit(X)\n",
        "X2D = pca.transform(X)\n",
        "plt.scatter(X2D[:,0],X2D[:,1], c = kmeans[\"clustering\"].labels_, cmap = \"rainbow\")\n",
        "plt.colorbar();\n",
        "plt.savefig('Kluster3.png')"
      ],
      "execution_count": 9,
      "outputs": [
        {
          "output_type": "display_data",
          "data": {
            "image/png": "[encoded data removed]",
            "text/plain": [
              "<Figure size 432x288 with 2 Axes>"
            ]
          },
          "metadata": {
            "tags": []
          }
        }
      ]
    },
    {
      "cell_type": "code",
      "metadata": {
        "id": "6Aj8_eOas7rw"
      },
      "source": [
        "y_cluster = kmeans.fit_predict(X2D)"
      ],
      "execution_count": 10,
      "outputs": []
    },
    {
      "cell_type": "code",
      "metadata": {
        "id": "7VBhb10W-eq5"
      },
      "source": [
        "from sklearn.tree import _tree, DecisionTreeClassifier"
      ],
      "execution_count": 11,
      "outputs": []
    },
    {
      "cell_type": "code",
      "metadata": {
        "id": "CudTsn9Eq75I"
      },
      "source": [
        "def pretty_print(df):\n",
        "    return display( HTML( df.to_html().replace(\"\\\\n\",\"<br>\") ) )\n",
        "\n",
        "def get_class_rules(tree: DecisionTreeClassifier, feature_names: list):\n",
        "  inner_tree: _tree.Tree = tree.tree_\n",
        "  classes = tree.classes_\n",
        "  class_rules_dict = dict()\n",
        "\n",
        "  def tree_dfs(node_id=0, current_rule=[]):\n",
        "    # feature[i] holds the feature to split on, for the internal node i.\n",
        "    split_feature = inner_tree.feature[node_id]\n",
        "    if split_feature != _tree.TREE_UNDEFINED: # internal node\n",
        "      name = feature_names[split_feature]\n",
        "      threshold = inner_tree.threshold[node_id]\n",
        "      # left child\n",
        "      left_rule = current_rule + [\"({} <= {})\".format(name, threshold)]\n",
        "      tree_dfs(inner_tree.children_left[node_id], left_rule)\n",
        "      # right child\n",
        "      right_rule = current_rule + [\"({} > {})\".format(name, threshold)]\n",
        "      tree_dfs(inner_tree.children_right[node_id], right_rule)\n",
        "    else: # leaf\n",
        "      dist = inner_tree.value[node_id][0]\n",
        "      dist = dist/dist.sum()\n",
        "      max_idx = dist.argmax()\n",
        "      if len(current_rule) == 0:\n",
        "        rule_string = \"ALL\"\n",
        "      else:\n",
        "        rule_string = \" and \".join(current_rule)\n",
        "      # register new rule to dictionary\n",
        "      selected_class = classes[max_idx]\n",
        "      class_probability = dist[max_idx]\n",
        "      class_rules = class_rules_dict.get(selected_class, [])\n",
        "      class_rules.append((rule_string, class_probability))\n",
        "      class_rules_dict[selected_class] = class_rules\n",
        "    \n",
        "  tree_dfs() # start from root, node_id = 0\n",
        "  return class_rules_dict\n",
        "\n",
        "def cluster_report(data: pd.DataFrame, clusters, min_samples_leaf=20, pruning_level=0.01):\n",
        "    # Create Model\n",
        "    tree = DecisionTreeClassifier(min_samples_leaf=min_samples_leaf, ccp_alpha=pruning_level)\n",
        "    tree.fit(data, clusters)\n",
        "    \n",
        "    # Generate Report\n",
        "    feature_names = data.columns\n",
        "    class_rule_dict = get_class_rules(tree, feature_names)\n",
        "\n",
        "    report_class_list = []\n",
        "    for class_name in class_rule_dict.keys():\n",
        "        rule_list = class_rule_dict[class_name]\n",
        "        combined_string = \"\"\n",
        "        for rule in rule_list:\n",
        "            combined_string += \"[{}] {}\\n\\n\".format(rule[1], rule[0])\n",
        "        report_class_list.append((class_name, combined_string))\n",
        "        \n",
        "    cluster_instance_df = pd.Series(clusters).value_counts().reset_index()\n",
        "    cluster_instance_df.columns = ['class_name', 'instance_count']\n",
        "    report_df = pd.DataFrame(report_class_list, columns=['class_name', 'rule_list'])\n",
        "    report_df = pd.merge(cluster_instance_df, report_df, on='class_name', how='left')\n",
        "    pretty_print(report_df.sort_values(by='class_name')[['class_name', 'instance_count', 'rule_list']])"
      ],
      "execution_count": 12,
      "outputs": []
    },
    {
      "cell_type": "code",
      "metadata": {
        "colab": {
          "base_uri": "https://localhost:8080/",
          "height": 363
        },
        "id": "L4FRSDnYsdLh",
        "outputId": "4715b76c-d0cc-447d-d5e2-c120026ec53c"
      },
      "source": [
        "from IPython.display import display, HTML\n",
        "cluster_report(X, y_cluster, min_samples_leaf=20, pruning_level=0.01)"
      ],
      "execution_count": 13,
      "outputs": [
        {
          "output_type": "display_data",
          "data": {
            "text/html": [
              "<table border=\"1\" class=\"dataframe\">\n",
              "  <thead>\n",
              "    <tr style=\"text-align: right;\">\n",
              "      <th></th>\n",
              "      <th>class_name</th>\n",
              "      <th>instance_count</th>\n",
              "      <th>rule_list</th>\n",
              "    </tr>\n",
              "  </thead>\n",
              "  <tbody>\n",
              "    <tr>\n",
              "      <th>0</th>\n",
              "      <td>0</td>\n",
              "      <td>373</td>\n",
              "      <td>[1.0] (j_mobil &lt;= 1.5) and (j_mobil &lt;= 0.5) and (gaji &lt;= 2000000.0)<br><br>[0.9506172839506173] (j_mobil &lt;= 1.5) and (j_mobil &lt;= 0.5) and (gaji &gt; 2000000.0) and (j_tanggungjawab &gt; 3.5)<br><br>[1.0] (j_mobil &gt; 1.5) and (j_motor &lt;= 1.5) and (gaji &lt;= 2000000.0) and (j_motor &gt; 0.5)<br><br></td>\n",
              "    </tr>\n",
              "    <tr>\n",
              "      <th>2</th>\n",
              "      <td>1</td>\n",
              "      <td>325</td>\n",
              "      <td>[0.7368421052631579] (j_mobil &gt; 1.5) and (j_motor &lt;= 1.5) and (gaji &lt;= 2000000.0) and (j_motor &lt;= 0.5)<br><br>[1.0] (j_mobil &gt; 1.5) and (j_motor &lt;= 1.5) and (gaji &gt; 2000000.0)<br><br>[1.0] (j_mobil &gt; 1.5) and (j_motor &gt; 1.5)<br><br></td>\n",
              "    </tr>\n",
              "    <tr>\n",
              "      <th>1</th>\n",
              "      <td>2</td>\n",
              "      <td>340</td>\n",
              "      <td>[0.6571428571428571] (j_mobil &lt;= 1.5) and (j_mobil &lt;= 0.5) and (gaji &gt; 2000000.0) and (j_tanggungjawab &lt;= 3.5)<br><br>[0.9690402476780186] (j_mobil &lt;= 1.5) and (j_mobil &gt; 0.5)<br><br></td>\n",
              "    </tr>\n",
              "  </tbody>\n",
              "</table>"
            ],
            "text/plain": [
              "<IPython.core.display.HTML object>"
            ]
          },
          "metadata": {
            "tags": []
          }
        }
      ]
    },
    {
      "cell_type": "code",
      "metadata": {
        "id": "8cb56_yLfvqq"
      },
      "source": [
        "#Test Model With any data\n"
      ],
      "execution_count": null,
      "outputs": []
    }
  ]
}
